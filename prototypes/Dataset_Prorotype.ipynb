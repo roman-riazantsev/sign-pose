{
 "cells": [
  {
   "cell_type": "code",
   "execution_count": 29,
   "metadata": {},
   "outputs": [],
   "source": [
    "import os\n",
    "import numpy as np\n",
    "import json\n",
    "import torch\n",
    "from torch.utils.data import Dataset, DataLoader"
   ]
  },
  {
   "cell_type": "code",
   "execution_count": 40,
   "metadata": {},
   "outputs": [],
   "source": [
    "class FreiDataset(Dataset):\n",
    "    def __init__(self, root_dir, transform=None):\n",
    "        def json_load(p):\n",
    "            msg = 'File does not exists: %s' % p\n",
    "            assert os.path.exists(p), msg\n",
    "            \n",
    "            with open(p, 'r') as fi:\n",
    "                d = json.load(fi)\n",
    "            return d\n",
    "        \n",
    "        k_path = os.path.join(root_dir, 'training_K.json')\n",
    "        mano_path = os.path.join(root_dir, 'training_mano.json')\n",
    "        xyz_path = os.path.join(root_dir, 'training_xyz.json')\n",
    "        \n",
    "        K_list = json_load(k_path)\n",
    "        mano_list = json_load(mano_path)\n",
    "        xyz_list = json_load(xyz_path)\n",
    "        \n",
    "        assert len(K_list) == len(mano_list), 'Size mismatch.'\n",
    "        assert len(K_list) == len(xyz_list), 'Size mismatch.'\n",
    "        \n",
    "        self.db_data_anno = list(zip(K_list, mano_list, xyz_list))\n",
    "        self.transform = transform\n",
    "        \n",
    "    def __len__(self):\n",
    "        return len(self.db_data_anno)\n",
    "    \n",
    "    def __getitem__(self, idx):\n",
    "        if torch.is_tensor(idx):\n",
    "            idx = idx.tolist()\n",
    "            \n",
    "        K, mano, xyz = self.db_data_anno[idx]\n",
    "        uv = self.projectPoints(xyz, K)\n",
    "        \n",
    "        sample = {'uv': uv, 'mano': mano}\n",
    "        \n",
    "        if self.transform:\n",
    "            sample = self.transform(sample)\n",
    "        \n",
    "        return sample\n",
    "            \n",
    "    @staticmethod\n",
    "    def projectPoints(xyz, K):\n",
    "        \"\"\" Project 3D coordinates into image space. \"\"\"\n",
    "        xyz = np.array(xyz)\n",
    "        K = np.array(K)\n",
    "        uv = np.matmul(K, xyz.T).T\n",
    "        return uv[:, :2] / uv[:, -1:]\n",
    "    \n",
    "    \n",
    "    \n",
    "class ToTensor(object):\n",
    "    \"\"\"Convert ndarrays in sample to Tensors.\"\"\"\n",
    "\n",
    "    def __call__(self, sample):\n",
    "        return {'uv': torch.FloatTensor(sample['uv']),\n",
    "                'mano': torch.FloatTensor(sample['mano'])}"
   ]
  },
  {
   "cell_type": "code",
   "execution_count": 43,
   "metadata": {},
   "outputs": [
    {
     "name": "stdout",
     "output_type": "stream",
     "text": [
      "0 torch.Size([21, 2]) torch.Size([1, 61])\n",
      "1 torch.Size([21, 2]) torch.Size([1, 61])\n",
      "2 torch.Size([21, 2]) torch.Size([1, 61])\n",
      "3 torch.Size([21, 2]) torch.Size([1, 61])\n"
     ]
    }
   ],
   "source": [
    "dataset = FreiDataset(\n",
    "    '/Users/romanriazantsev/Dev/Datasets/FreiHAND_pub_v1',\n",
    "    transform=ToTensor()\n",
    ")\n",
    "\n",
    "for i in range(len(dataset)):\n",
    "    sample = dataset[i]\n",
    "    \n",
    "    print(i, sample['uv'].size(), sample['mano'].size())\n",
    "    \n",
    "    if i == 3:\n",
    "        break"
   ]
  },
  {
   "cell_type": "code",
   "execution_count": 44,
   "metadata": {},
   "outputs": [],
   "source": [
    "dataloader = DataLoader(\n",
    "    dataset, \n",
    "    batch_size=4,\n",
    "    shuffle=True, \n",
    "    num_workers=4\n",
    ")"
   ]
  },
  {
   "cell_type": "code",
   "execution_count": 47,
   "metadata": {},
   "outputs": [
    {
     "name": "stdout",
     "output_type": "stream",
     "text": [
      "0 torch.Size([4, 21, 2]) torch.Size([4, 1, 61])\n",
      "1 torch.Size([4, 21, 2]) torch.Size([4, 1, 61])\n",
      "2 torch.Size([4, 21, 2]) torch.Size([4, 1, 61])\n",
      "3 torch.Size([4, 21, 2]) torch.Size([4, 1, 61])\n"
     ]
    }
   ],
   "source": [
    "for i_batch, sample_batched in enumerate(dataloader):\n",
    "    print(i_batch, sample_batched['uv'].size(),\n",
    "          sample_batched['mano'].size())\n",
    "    if i_batch == 3:\n",
    "        break"
   ]
  }
 ],
 "metadata": {
  "kernelspec": {
   "display_name": "Python(manotorch)",
   "language": "python",
   "name": "manotorch"
  },
  "language_info": {
   "codemirror_mode": {
    "name": "ipython",
    "version": 3
   },
   "file_extension": ".py",
   "mimetype": "text/x-python",
   "name": "python",
   "nbconvert_exporter": "python",
   "pygments_lexer": "ipython3",
   "version": "3.7.4"
  }
 },
 "nbformat": 4,
 "nbformat_minor": 4
}
