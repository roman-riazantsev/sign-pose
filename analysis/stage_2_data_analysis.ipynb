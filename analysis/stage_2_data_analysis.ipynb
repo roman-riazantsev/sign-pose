{
 "cells": [
  {
   "cell_type": "code",
   "execution_count": 2,
   "metadata": {},
   "outputs": [],
   "source": [
    "import sys\n",
    "import os\n",
    "\n",
    "path = '/Users/romanriazantsev/Dev/gits/sign-pose'\n",
    "os.chdir(path)\n",
    "sys.path.insert(0, os.path.abspath(path))\n",
    "\n",
    "import numpy as np\n",
    "from utils.utils import to_numpy\n",
    "from utils.fh_utils import *\n",
    "import pandas as pd"
   ]
  },
  {
   "cell_type": "code",
   "execution_count": 3,
   "metadata": {},
   "outputs": [
    {
     "name": "stdout",
     "output_type": "stream",
     "text": [
      "(32560, 21, 3)\n"
     ]
    }
   ],
   "source": [
    "base_path = '../../Datasets/FreiHAND_pub_v1'\n",
    "xyz_path = os.path.join(base_path, '%s_xyz.json' % 'training')\n",
    "xyz_list = json_load(xyz_path)\n",
    "\n",
    "xyz_array = np.array(xyz_list).reshape(32560, 21, 3)\n",
    "print(xyz_array.shape)"
   ]
  },
  {
   "cell_type": "code",
   "execution_count": 4,
   "metadata": {},
   "outputs": [
    {
     "name": "stdout",
     "output_type": "stream",
     "text": [
      "(32560, 3, 3)\n"
     ]
    }
   ],
   "source": [
    "K_path = os.path.join(base_path, '%s_K.json' % 'training')\n",
    "K_list = json_load(K_path)\n",
    "K_array = np.array(K_list)\n",
    "print(K_array.shape)"
   ]
  },
  {
   "cell_type": "code",
   "execution_count": 5,
   "metadata": {},
   "outputs": [],
   "source": [
    "def get_uv():\n",
    "    uv_dict = {}\n",
    "    uv_list = []\n",
    "\n",
    "    for idx, (xyz, K) in enumerate(zip(xyz_list, K_list)):\n",
    "        uv = projectPoints(xyz, K)\n",
    "        uv_dict[idx] = uv\n",
    "        uv_list.append(uv)\n",
    "        \n",
    "    uv_array = np.array(uv_list)    \n",
    "    return uv_dict, uv_array\n",
    "\n",
    "uv_dict, uv_array = get_uv()"
   ]
  },
  {
   "cell_type": "code",
   "execution_count": 6,
   "metadata": {},
   "outputs": [],
   "source": [
    "def sample_to_df(narray, idx, data_type):\n",
    "    df = pd.DataFrame(data=narray, columns=['x','y'])\n",
    "    df['point_id'] = df.index\n",
    "    df['data_type'] = data_type\n",
    "    \n",
    "    return df\n",
    "\n",
    "def get_df_from_idx(uv_array, xyz_array, idx):\n",
    "    unnormed_2d_sample = uv_array[idx]\n",
    "    normed_2d_sample = xyz_array[idx, :, :2]\n",
    "    \n",
    "    print(normed_2d_sample.shape)\n",
    "    \n",
    "    unnormed_df = sample_to_df(unnormed_2d_sample, idx, 'unnormed')\n",
    "    normed_df = sample_to_df(normed_2d_sample, idx, 'normed')\n",
    "    \n",
    "    result_df = pd.concat([unnormed_df, normed_df])\n",
    "    \n",
    "    return result_df, unnormed_df, normed_df"
   ]
  },
  {
   "cell_type": "code",
   "execution_count": 7,
   "metadata": {},
   "outputs": [
    {
     "name": "stdout",
     "output_type": "stream",
     "text": [
      "(21, 2)\n"
     ]
    }
   ],
   "source": [
    "result_df, unnormed_df, normed_df = get_df_from_idx(uv_array, xyz_array, 1)"
   ]
  },
  {
   "cell_type": "code",
   "execution_count": 8,
   "metadata": {},
   "outputs": [],
   "source": [
    "def normalize_dataframe(df_1):\n",
    "    for column in ['x', 'y']:\n",
    "        df_1[column] = df_1[column] - df_1[column].mean()\n",
    "        df_1[column] = df_1[column] / df_1[column].std()\n",
    "        \n",
    "    return df_1"
   ]
  },
  {
   "cell_type": "code",
   "execution_count": 9,
   "metadata": {},
   "outputs": [],
   "source": [
    "unnormed_df_ = normalize_dataframe(unnormed_df)\n",
    "normed_df_ = normalize_dataframe(normed_df)"
   ]
  },
  {
   "cell_type": "code",
   "execution_count": 10,
   "metadata": {},
   "outputs": [
    {
     "data": {
      "application/vnd.vegalite.v3+json": {
       "$schema": "https://vega.github.io/schema/vega-lite/v3.4.0.json",
       "config": {
        "mark": {
         "tooltip": null
        },
        "view": {
         "height": 300,
         "width": 400
        }
       },
       "datasets": {
        "data-4f76ab50a3fa282926ac31de1c0e94d3": [
         {
          "data_type": "unnormed",
          "point_id": 0,
          "x": -2.0409828808486874,
          "y": -1.1965379007034274
         },
         {
          "data_type": "unnormed",
          "point_id": 1,
          "x": -1.1533388842427408,
          "y": -1.0013623291049774
         },
         {
          "data_type": "unnormed",
          "point_id": 2,
          "x": -0.45926312128787633,
          "y": -1.3625965146255563
         },
         {
          "data_type": "unnormed",
          "point_id": 3,
          "x": 0.15273717931691125,
          "y": -1.660481076206391
         },
         {
          "data_type": "unnormed",
          "point_id": 4,
          "x": 0.8745720828166358,
          "y": -2.273175311422438
         },
         {
          "data_type": "unnormed",
          "point_id": 5,
          "x": 0.026196682925662355,
          "y": -0.5845831084383166
         },
         {
          "data_type": "unnormed",
          "point_id": 6,
          "x": 0.7839452061788488,
          "y": -0.21656450486967277
         },
         {
          "data_type": "unnormed",
          "point_id": 7,
          "x": 1.304851104606085,
          "y": 0.023416442342212507
         },
         {
          "data_type": "unnormed",
          "point_id": 8,
          "x": 1.892930911970871,
          "y": 0.09860592130587392
         },
         {
          "data_type": "unnormed",
          "point_id": 9,
          "x": -0.17239813872960882,
          "y": -0.16782733397997815
         },
         {
          "data_type": "unnormed",
          "point_id": 10,
          "x": 0.4385053307363274,
          "y": 0.35391118682703143
         },
         {
          "data_type": "unnormed",
          "point_id": 11,
          "x": 0.8910247566483273,
          "y": 0.7738456401481141
         },
         {
          "data_type": "unnormed",
          "point_id": 12,
          "x": 1.437674329867728,
          "y": 1.015878019211158
         },
         {
          "data_type": "unnormed",
          "point_id": 13,
          "x": -0.7650996488526055,
          "y": 0.19451364341331379
         },
         {
          "data_type": "unnormed",
          "point_id": 14,
          "x": -0.25057234907473036,
          "y": 0.5652702386231067
         },
         {
          "data_type": "unnormed",
          "point_id": 15,
          "x": 0.10091297468245923,
          "y": 0.9264365865401034
         },
         {
          "data_type": "unnormed",
          "point_id": 16,
          "x": 0.5607925418949209,
          "y": 1.1860738131534458
         },
         {
          "data_type": "unnormed",
          "point_id": 17,
          "x": -1.2631487951662475,
          "y": 0.5013050202128175
         },
         {
          "data_type": "unnormed",
          "point_id": 18,
          "x": -0.9873337848665751,
          "y": 0.7293492036954392
         },
         {
          "data_type": "unnormed",
          "point_id": 19,
          "x": -0.8215419900409029,
          "y": 1.0155305519748754
         },
         {
          "data_type": "unnormed",
          "point_id": 20,
          "x": -0.5504635085348177,
          "y": 1.0789918119032473
         }
        ],
        "data-aa385faab2dbf64656e975e786e0d58c": [
         {
          "data_type": "normed",
          "point_id": 0,
          "x": -2.137282328897688,
          "y": -1.1839462584128722
         },
         {
          "data_type": "normed",
          "point_id": 1,
          "x": -1.2268510269458475,
          "y": -0.9575179003490688
         },
         {
          "data_type": "normed",
          "point_id": 2,
          "x": -0.4936254712131369,
          "y": -1.3621258816543818
         },
         {
          "data_type": "normed",
          "point_id": 3,
          "x": 0.1586891163042842,
          "y": -1.6986071880403084
         },
         {
          "data_type": "normed",
          "point_id": 4,
          "x": 0.9242794644560335,
          "y": -2.387203336055103
         },
         {
          "data_type": "normed",
          "point_id": 5,
          "x": 0.03151993179578321,
          "y": -0.5387063342109091
         },
         {
          "data_type": "normed",
          "point_id": 6,
          "x": 0.794196569530159,
          "y": -0.1631328617473226
         },
         {
          "data_type": "normed",
          "point_id": 7,
          "x": 1.305825481453084,
          "y": 0.07429122382173395
         },
         {
          "data_type": "normed",
          "point_id": 8,
          "x": 1.8614266877291317,
          "y": 0.12201298408864293
         },
         {
          "data_type": "normed",
          "point_id": 9,
          "x": -0.16264636586299733,
          "y": -0.1242317948530124
         },
         {
          "data_type": "normed",
          "point_id": 10,
          "x": 0.4406472331596531,
          "y": 0.3853463289619486
         },
         {
          "data_type": "normed",
          "point_id": 11,
          "x": 0.8721314705542303,
          "y": 0.7819941036872841
         },
         {
          "data_type": "normed",
          "point_id": 12,
          "x": 1.37286093334566,
          "y": 0.9719758975236485
         },
         {
          "data_type": "normed",
          "point_id": 13,
          "x": -0.7454493610954159,
          "y": 0.24313589187103307
         },
         {
          "data_type": "normed",
          "point_id": 14,
          "x": -0.2277377616958409,
          "y": 0.580299754471328
         },
         {
          "data_type": "normed",
          "point_id": 15,
          "x": 0.11377910506658842,
          "y": 0.8896459824548953
         },
         {
          "data_type": "normed",
          "point_id": 16,
          "x": 0.5401017976838823,
          "y": 1.0855843475596938
         },
         {
          "data_type": "normed",
          "point_id": 17,
          "x": -1.2353389627598295,
          "y": 0.5609772181251516
         },
         {
          "data_type": "normed",
          "point_id": 18,
          "x": -0.9396970006173224,
          "y": 0.7484016902969124
         },
         {
          "data_type": "normed",
          "point_id": 19,
          "x": -0.7599886741367491,
          "y": 0.9865155548621956
         },
         {
          "data_type": "normed",
          "point_id": 20,
          "x": -0.4868408378536621,
          "y": 0.9852905775985057
         }
        ]
       },
       "hconcat": [
        {
         "data": {
          "name": "data-4f76ab50a3fa282926ac31de1c0e94d3"
         },
         "encoding": {
          "color": {
           "field": "data_type",
           "type": "nominal"
          },
          "x": {
           "field": "x",
           "type": "quantitative"
          },
          "y": {
           "field": "y",
           "type": "quantitative"
          }
         },
         "mark": {
          "size": 60,
          "type": "circle"
         },
         "selection": {
          "selector001": {
           "bind": "scales",
           "encodings": [
            "x",
            "y"
           ],
           "type": "interval"
          }
         }
        },
        {
         "data": {
          "name": "data-aa385faab2dbf64656e975e786e0d58c"
         },
         "encoding": {
          "color": {
           "field": "data_type",
           "type": "nominal"
          },
          "x": {
           "field": "x",
           "type": "quantitative"
          },
          "y": {
           "field": "y",
           "type": "quantitative"
          }
         },
         "mark": {
          "size": 60,
          "type": "circle"
         },
         "selection": {
          "selector002": {
           "bind": "scales",
           "encodings": [
            "x",
            "y"
           ],
           "type": "interval"
          }
         }
        }
       ]
      },
      "image/png": "[encoded data removed]",
      "text/plain": [
       "<VegaLite 3 object>\n",
       "\n",
       "If you see this message, it means the renderer has not been properly enabled\n",
       "for the frontend that you are using. For more information, see\n",
       "https://altair-viz.github.io/user_guide/troubleshooting.html\n"
      ]
     },
     "execution_count": 10,
     "metadata": {},
     "output_type": "execute_result"
    }
   ],
   "source": [
    "import altair as alt\n",
    "from vega_datasets import data\n",
    "\n",
    "\n",
    "chart_1 = alt.Chart(unnormed_df_).mark_circle(size=60).encode(\n",
    "    x='x',\n",
    "    y='y',\n",
    "    color='data_type',\n",
    ").interactive()\n",
    "\n",
    "chart_2 = alt.Chart(normed_df_).mark_circle(size=60).encode(\n",
    "    x='x',\n",
    "    y='y',\n",
    "    color='data_type',\n",
    ").interactive()\n",
    "\n",
    "chart_1 | chart_2"
   ]
  },
  {
   "cell_type": "code",
   "execution_count": 11,
   "metadata": {},
   "outputs": [
    {
     "data": {
      "application/vnd.vegalite.v3+json": {
       "$schema": "https://vega.github.io/schema/vega-lite/v3.4.0.json",
       "config": {
        "mark": {
         "tooltip": null
        },
        "view": {
         "height": 300,
         "width": 400
        }
       },
       "data": {
        "name": "data-87af47db101d278b5c32a8321933ecf8"
       },
       "datasets": {
        "data-87af47db101d278b5c32a8321933ecf8": [
         {
          "data_type": "unnormed",
          "point_id": 0,
          "x": -2.0409828808486874,
          "y": -1.1965379007034274
         },
         {
          "data_type": "unnormed",
          "point_id": 1,
          "x": -1.1533388842427408,
          "y": -1.0013623291049774
         },
         {
          "data_type": "unnormed",
          "point_id": 2,
          "x": -0.45926312128787633,
          "y": -1.3625965146255563
         },
         {
          "data_type": "unnormed",
          "point_id": 3,
          "x": 0.15273717931691125,
          "y": -1.660481076206391
         },
         {
          "data_type": "unnormed",
          "point_id": 4,
          "x": 0.8745720828166358,
          "y": -2.273175311422438
         },
         {
          "data_type": "unnormed",
          "point_id": 5,
          "x": 0.026196682925662355,
          "y": -0.5845831084383166
         },
         {
          "data_type": "unnormed",
          "point_id": 6,
          "x": 0.7839452061788488,
          "y": -0.21656450486967277
         },
         {
          "data_type": "unnormed",
          "point_id": 7,
          "x": 1.304851104606085,
          "y": 0.023416442342212507
         },
         {
          "data_type": "unnormed",
          "point_id": 8,
          "x": 1.892930911970871,
          "y": 0.09860592130587392
         },
         {
          "data_type": "unnormed",
          "point_id": 9,
          "x": -0.17239813872960882,
          "y": -0.16782733397997815
         },
         {
          "data_type": "unnormed",
          "point_id": 10,
          "x": 0.4385053307363274,
          "y": 0.35391118682703143
         },
         {
          "data_type": "unnormed",
          "point_id": 11,
          "x": 0.8910247566483273,
          "y": 0.7738456401481141
         },
         {
          "data_type": "unnormed",
          "point_id": 12,
          "x": 1.437674329867728,
          "y": 1.015878019211158
         },
         {
          "data_type": "unnormed",
          "point_id": 13,
          "x": -0.7650996488526055,
          "y": 0.19451364341331379
         },
         {
          "data_type": "unnormed",
          "point_id": 14,
          "x": -0.25057234907473036,
          "y": 0.5652702386231067
         },
         {
          "data_type": "unnormed",
          "point_id": 15,
          "x": 0.10091297468245923,
          "y": 0.9264365865401034
         },
         {
          "data_type": "unnormed",
          "point_id": 16,
          "x": 0.5607925418949209,
          "y": 1.1860738131534458
         },
         {
          "data_type": "unnormed",
          "point_id": 17,
          "x": -1.2631487951662475,
          "y": 0.5013050202128175
         },
         {
          "data_type": "unnormed",
          "point_id": 18,
          "x": -0.9873337848665751,
          "y": 0.7293492036954392
         },
         {
          "data_type": "unnormed",
          "point_id": 19,
          "x": -0.8215419900409029,
          "y": 1.0155305519748754
         },
         {
          "data_type": "unnormed",
          "point_id": 20,
          "x": -0.5504635085348177,
          "y": 1.0789918119032473
         },
         {
          "data_type": "normed",
          "point_id": 0,
          "x": -2.137282328897688,
          "y": -1.1839462584128722
         },
         {
          "data_type": "normed",
          "point_id": 1,
          "x": -1.2268510269458475,
          "y": -0.9575179003490688
         },
         {
          "data_type": "normed",
          "point_id": 2,
          "x": -0.4936254712131369,
          "y": -1.3621258816543818
         },
         {
          "data_type": "normed",
          "point_id": 3,
          "x": 0.1586891163042842,
          "y": -1.6986071880403084
         },
         {
          "data_type": "normed",
          "point_id": 4,
          "x": 0.9242794644560335,
          "y": -2.387203336055103
         },
         {
          "data_type": "normed",
          "point_id": 5,
          "x": 0.03151993179578321,
          "y": -0.5387063342109091
         },
         {
          "data_type": "normed",
          "point_id": 6,
          "x": 0.794196569530159,
          "y": -0.1631328617473226
         },
         {
          "data_type": "normed",
          "point_id": 7,
          "x": 1.305825481453084,
          "y": 0.07429122382173395
         },
         {
          "data_type": "normed",
          "point_id": 8,
          "x": 1.8614266877291317,
          "y": 0.12201298408864293
         },
         {
          "data_type": "normed",
          "point_id": 9,
          "x": -0.16264636586299733,
          "y": -0.1242317948530124
         },
         {
          "data_type": "normed",
          "point_id": 10,
          "x": 0.4406472331596531,
          "y": 0.3853463289619486
         },
         {
          "data_type": "normed",
          "point_id": 11,
          "x": 0.8721314705542303,
          "y": 0.7819941036872841
         },
         {
          "data_type": "normed",
          "point_id": 12,
          "x": 1.37286093334566,
          "y": 0.9719758975236485
         },
         {
          "data_type": "normed",
          "point_id": 13,
          "x": -0.7454493610954159,
          "y": 0.24313589187103307
         },
         {
          "data_type": "normed",
          "point_id": 14,
          "x": -0.2277377616958409,
          "y": 0.580299754471328
         },
         {
          "data_type": "normed",
          "point_id": 15,
          "x": 0.11377910506658842,
          "y": 0.8896459824548953
         },
         {
          "data_type": "normed",
          "point_id": 16,
          "x": 0.5401017976838823,
          "y": 1.0855843475596938
         },
         {
          "data_type": "normed",
          "point_id": 17,
          "x": -1.2353389627598295,
          "y": 0.5609772181251516
         },
         {
          "data_type": "normed",
          "point_id": 18,
          "x": -0.9396970006173224,
          "y": 0.7484016902969124
         },
         {
          "data_type": "normed",
          "point_id": 19,
          "x": -0.7599886741367491,
          "y": 0.9865155548621956
         },
         {
          "data_type": "normed",
          "point_id": 20,
          "x": -0.4868408378536621,
          "y": 0.9852905775985057
         }
        ]
       },
       "encoding": {
        "color": {
         "field": "data_type",
         "type": "nominal"
        },
        "x": {
         "field": "x",
         "type": "quantitative"
        },
        "y": {
         "field": "y",
         "type": "quantitative"
        }
       },
       "mark": {
        "size": 60,
        "type": "circle"
       },
       "selection": {
        "selector003": {
         "bind": "scales",
         "encodings": [
          "x",
          "y"
         ],
         "type": "interval"
        }
       }
      },
      "image/png": "[encoded data removed]",
      "text/plain": [
       "<VegaLite 3 object>\n",
       "\n",
       "If you see this message, it means the renderer has not been properly enabled\n",
       "for the frontend that you are using. For more information, see\n",
       "https://altair-viz.github.io/user_guide/troubleshooting.html\n"
      ]
     },
     "execution_count": 11,
     "metadata": {},
     "output_type": "execute_result"
    }
   ],
   "source": [
    "result_df_ = pd.concat([unnormed_df_, normed_df_])\n",
    "\n",
    "alt.Chart(result_df_).mark_circle(size=60).encode(\n",
    "    x='x',\n",
    "    y='y',\n",
    "    color='data_type',\n",
    ").interactive()"
   ]
  },
  {
   "cell_type": "code",
   "execution_count": 12,
   "metadata": {},
   "outputs": [
    {
     "data": {
      "text/plain": [
       "array([0.56315116, 0.58878315, 0.61253272, 0.6374409 , 0.65775988,\n",
       "       0.65138304, 0.68186752, 0.7008122 , 0.72599338, 0.64969438,\n",
       "       0.67676929, 0.69442274, 0.71829936, 0.62777246, 0.65401053,\n",
       "       0.67299638, 0.69724862, 0.60716644, 0.62324935, 0.6347107 ,\n",
       "       0.65365011])"
      ]
     },
     "execution_count": 12,
     "metadata": {},
     "output_type": "execute_result"
    }
   ],
   "source": [
    "xyz_array[0,...,2]"
   ]
  },
  {
   "cell_type": "code",
   "execution_count": 13,
   "metadata": {},
   "outputs": [],
   "source": [
    "import numpy as np\n",
    "import pandas as pd\n",
    "import seaborn as sns\n",
    "import matplotlib.pyplot as plt\n",
    "from scipy import stats"
   ]
  },
  {
   "cell_type": "code",
   "execution_count": 29,
   "metadata": {},
   "outputs": [
    {
     "data": {
      "text/plain": [
       "<matplotlib.axes._subplots.AxesSubplot at 0x13bb0c790>"
      ]
     },
     "execution_count": 29,
     "metadata": {},
     "output_type": "execute_result"
    },
    {
     "data": {
      "image/png": "[encoded data removed]",
      "text/plain": [
       "<Figure size 432x288 with 1 Axes>"
      ]
     },
     "metadata": {
      "needs_background": "light"
     },
     "output_type": "display_data"
    }
   ],
   "source": [
    "sns.distplot(xyz_array[0,...,2])"
   ]
  },
  {
   "cell_type": "code",
   "execution_count": 30,
   "metadata": {},
   "outputs": [],
   "source": [
    "z_copy = xyz_array[0,...,2].copy()\n",
    "z_copy = (z_copy - z_copy.min()) \n",
    "z_max_absolute = z_copy.max()\n",
    "z_normed = z_copy / z_max_absolute"
   ]
  },
  {
   "cell_type": "code",
   "execution_count": 31,
   "metadata": {},
   "outputs": [
    {
     "data": {
      "text/plain": [
       "<matplotlib.axes._subplots.AxesSubplot at 0x13bc01250>"
      ]
     },
     "execution_count": 31,
     "metadata": {},
     "output_type": "execute_result"
    },
    {
     "data": {
      "image/png": "[encoded data removed]",
      "text/plain": [
       "<Figure size 432x288 with 1 Axes>"
      ]
     },
     "metadata": {
      "needs_background": "light"
     },
     "output_type": "display_data"
    }
   ],
   "source": [
    "sns.distplot(z_normed,bins=21)"
   ]
  },
  {
   "cell_type": "code",
   "execution_count": 32,
   "metadata": {},
   "outputs": [],
   "source": [
    "z_copy = xyz_array[0,...,2].copy()"
   ]
  },
  {
   "cell_type": "code",
   "execution_count": 33,
   "metadata": {},
   "outputs": [
    {
     "data": {
      "text/plain": [
       "0.16284222496641254"
      ]
     },
     "execution_count": 33,
     "metadata": {},
     "output_type": "execute_result"
    }
   ],
   "source": [
    "z_max_absolute"
   ]
  },
  {
   "cell_type": "code",
   "execution_count": 34,
   "metadata": {},
   "outputs": [],
   "source": [
    "z_copy = xyz_array[0,...,2].copy()"
   ]
  },
  {
   "cell_type": "code",
   "execution_count": 38,
   "metadata": {},
   "outputs": [],
   "source": [
    "z_copy = (z_copy - z_copy.min()) "
   ]
  },
  {
   "cell_type": "code",
   "execution_count": 39,
   "metadata": {},
   "outputs": [
    {
     "data": {
      "text/plain": [
       "array([0.        , 0.02563199, 0.04938156, 0.07428974, 0.09460873,\n",
       "       0.08823188, 0.11871636, 0.13766105, 0.16284222, 0.08654322,\n",
       "       0.11361813, 0.13127159, 0.1551482 , 0.0646213 , 0.09085937,\n",
       "       0.10984522, 0.13409746, 0.04401528, 0.06009819, 0.07155954,\n",
       "       0.09049895])"
      ]
     },
     "execution_count": 39,
     "metadata": {},
     "output_type": "execute_result"
    }
   ],
   "source": [
    "z_copy"
   ]
  },
  {
   "cell_type": "code",
   "execution_count": 37,
   "metadata": {},
   "outputs": [
    {
     "data": {
      "text/plain": [
       "array([0.        , 0.02563199, 0.04938156, 0.07428974, 0.09460873,\n",
       "       0.08823188, 0.11871636, 0.13766105, 0.16284222, 0.08654322,\n",
       "       0.11361813, 0.13127159, 0.1551482 , 0.0646213 , 0.09085937,\n",
       "       0.10984522, 0.13409746, 0.04401528, 0.06009819, 0.07155954,\n",
       "       0.09049895])"
      ]
     },
     "execution_count": 37,
     "metadata": {},
     "output_type": "execute_result"
    }
   ],
   "source": [
    "z_normed * z_max_absolute "
   ]
  },
  {
   "cell_type": "code",
   "execution_count": null,
   "metadata": {},
   "outputs": [],
   "source": []
  }
 ],
 "metadata": {
  "kernelspec": {
   "display_name": "Python(manotorch)",
   "language": "python",
   "name": "manotorch"
  },
  "language_info": {
   "codemirror_mode": {
    "name": "ipython",
    "version": 3
   },
   "file_extension": ".py",
   "mimetype": "text/x-python",
   "name": "python",
   "nbconvert_exporter": "python",
   "pygments_lexer": "ipython3",
   "version": "3.7.4"
  }
 },
 "nbformat": 4,
 "nbformat_minor": 4
}
