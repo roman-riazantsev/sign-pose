{
 "cells": [
  {
   "cell_type": "code",
   "execution_count": 1,
   "metadata": {},
   "outputs": [],
   "source": [
    "import sys\n",
    "import os\n",
    "import numpy as np\n",
    "\n",
    "sys.path.insert(0, os.path.abspath(\"../\"))\n",
    "\n",
    "from utils.fh_utils import *"
   ]
  },
  {
   "cell_type": "code",
   "execution_count": 20,
   "metadata": {},
   "outputs": [],
   "source": [
    "base_path = '../../../Datasets/FreiHAND_pub_v1'\n",
    "mano_path = os.path.join(base_path, '%s_mano.json' % 'training')\n",
    "mano_list = json_load(mano_path)"
   ]
  },
  {
   "cell_type": "code",
   "execution_count": 109,
   "metadata": {},
   "outputs": [],
   "source": [
    "mano_array = np.array(mano_list).squeeze(1)\n",
    "mano_poses = mano_array[..., :48]"
   ]
  },
  {
   "cell_type": "code",
   "execution_count": 110,
   "metadata": {},
   "outputs": [],
   "source": [
    "def drop_element(arr, idx):\n",
    "    el = arr[idx]\n",
    "    new_arr = np.delete(arr, idx, 0)\n",
    "    return el, new_arr\n",
    "\n",
    "def find_nearest(arr, value):\n",
    "    idx = (np.abs(arr - value)).sum(axis=1).argmin()\n",
    "    return idx\n",
    "\n",
    "def walk(arr, init_idx, road_length):\n",
    "    vectors_road = []\n",
    "    \n",
    "    cur_val, arr = drop_element(arr, init_idx)\n",
    "    \n",
    "    vectors_road.append(cur_val)\n",
    "    \n",
    "    for i in range(road_length):\n",
    "        nxt_idx = find_nearest(arr, cur_val)\n",
    "        cur_val, arr = drop_element(arr, nxt_idx)\n",
    "        vectors_road.append(cur_val)\n",
    "    \n",
    "    return vectors_road"
   ]
  },
  {
   "cell_type": "code",
   "execution_count": 111,
   "metadata": {},
   "outputs": [],
   "source": [
    "vectors_road = walk(mano_poses, 10, 100) "
   ]
  },
  {
   "cell_type": "code",
   "execution_count": 113,
   "metadata": {},
   "outputs": [
    {
     "data": {
      "text/plain": [
       "array([-2.84763467e+00, -9.52148064e-01,  7.41726409e-01,  7.21557159e-03,\n",
       "       -8.90304372e-02, -1.65928781e-01, -1.79417692e-02, -4.66434136e-02,\n",
       "       -4.99787420e-01,  4.62657697e-02, -1.13510191e-01, -3.35353166e-01,\n",
       "       -2.14355096e-01,  1.59351125e-01,  6.50085866e-01,  1.79303158e-02,\n",
       "       -7.75712654e-02, -6.50564194e-01, -7.70680467e-03, -4.97016907e-02,\n",
       "       -3.45987588e-01, -6.33628666e-01,  5.20436168e-01,  8.29543769e-01,\n",
       "       -2.95443147e-01,  1.01270847e-01,  2.73408860e-01, -5.65998852e-02,\n",
       "        1.30092921e-02, -6.39988258e-02, -2.97118843e-01,  2.68769592e-01,\n",
       "        8.45717967e-01, -2.00600997e-01, -4.54249373e-03,  3.74608308e-01,\n",
       "       -4.54004109e-02,  1.39955968e-01,  5.14645576e-02,  2.06519291e-01,\n",
       "       -1.43135567e-05, -1.83831051e-01, -2.51566440e-01,  2.06412524e-02,\n",
       "        2.56078750e-01,  2.52025455e-01, -2.45348364e-01, -4.57073450e-02])"
      ]
     },
     "execution_count": 113,
     "metadata": {},
     "output_type": "execute_result"
    }
   ],
   "source": [
    "vectors_road[92]"
   ]
  },
  {
   "cell_type": "code",
   "execution_count": null,
   "metadata": {},
   "outputs": [],
   "source": []
  }
 ],
 "metadata": {
  "kernelspec": {
   "display_name": "Python(manotorch)",
   "language": "python",
   "name": "manotorch"
  },
  "language_info": {
   "codemirror_mode": {
    "name": "ipython",
    "version": 3
   },
   "file_extension": ".py",
   "mimetype": "text/x-python",
   "name": "python",
   "nbconvert_exporter": "python",
   "pygments_lexer": "ipython3",
   "version": "3.7.4"
  }
 },
 "nbformat": 4,
 "nbformat_minor": 4
}
